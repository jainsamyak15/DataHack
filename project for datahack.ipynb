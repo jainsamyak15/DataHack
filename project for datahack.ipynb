{
 "cells": [
  {
   "cell_type": "code",
   "execution_count": 41,
   "id": "e9081e6f-665d-404a-b444-d74b9985c58b",
   "metadata": {},
   "outputs": [
    {
     "name": "stderr",
     "output_type": "stream",
     "text": [
      "/opt/anaconda3/lib/python3.11/site-packages/sklearn/impute/_iterative.py:785: ConvergenceWarning: [IterativeImputer] Early stopping criterion not reached.\n",
      "  warnings.warn(\n"
     ]
    },
    {
     "name": "stdout",
     "output_type": "stream",
     "text": [
      "XYZ Vaccine ROC AUC: 0.8539\n",
      "Seasonal Vaccine ROC AUC: 0.8557\n",
      "Mean ROC AUC: 0.8548\n"
     ]
    }
   ],
   "source": [
    "\n",
    "import pandas as pd\n",
    "from sklearn.model_selection import train_test_split\n",
    "from sklearn.ensemble import RandomForestClassifier\n",
    "from sklearn.metrics import roc_auc_score\n",
    "from sklearn.preprocessing import OneHotEncoder\n",
    "from sklearn.impute import IterativeImputer\n",
    "from sklearn.experimental import enable_iterative_imputer\n",
    "from sklearn.compose import ColumnTransformer\n",
    "from sklearn.pipeline import Pipeline\n",
    "\n",
    "# Load the datasets\n",
    "train_features = pd.read_csv('training_set_features.csv')\n",
    "train_labels = pd.read_csv('training_set_labels.csv')\n",
    "test_features = pd.read_csv('test_set_features.csv')\n",
    "submission_format = pd.read_csv('submission_format.csv')\n",
    "\n",
    "# Merge the training features and labels\n",
    "train_data = pd.merge(train_features, train_labels, on='respondent_id')\n",
    "\n",
    "# Identify categorical columns\n",
    "categorical_columns = ['age_group', 'education', 'race', 'sex', 'income_poverty', 'marital_status', 'rent_or_own',\n",
    "                       'employment_status', 'hhs_geo_region', 'census_msa', 'employment_industry', 'employment_occupation']\n",
    "numerical_columns = train_data.drop(categorical_columns + ['respondent_id', 'xyz_vaccine', 'seasonal_vaccine'], axis=1).columns\n",
    "\n",
    "# Create a preprocessing pipeline\n",
    "preprocessor = ColumnTransformer(\n",
    "    transformers=[\n",
    "        ('num', IterativeImputer(), numerical_columns),\n",
    "        ('cat', OneHotEncoder(handle_unknown='ignore'), categorical_columns)\n",
    "    ])\n",
    "\n",
    "# Create the Random Forest model\n",
    "rf_model = RandomForestClassifier(n_estimators=100, random_state=42)\n",
    "\n",
    "# Create the full pipeline\n",
    "pipeline = Pipeline(steps=[('preprocessor', preprocessor),\n",
    "                           ('classifier', rf_model)])\n",
    "\n",
    "# Split the data into features and targets\n",
    "features = train_data.drop(['respondent_id', 'xyz_vaccine', 'seasonal_vaccine'], axis=1)\n",
    "targets = train_data[['xyz_vaccine', 'seasonal_vaccine']]\n",
    "\n",
    "# Split the data into training and testing sets\n",
    "X_train, X_test, y_train, y_test = train_test_split(features, targets, test_size=0.2, random_state=42)\n",
    "\n",
    "# Fit the pipeline on the training data\n",
    "pipeline.fit(X_train, y_train)\n",
    "\n",
    "# Make predictions on the test set\n",
    "y_pred = pipeline.predict_proba(X_test)\n",
    "\n",
    "# Extract the predicted probabilities for each target variable\n",
    "xyz_pred = y_pred[0][:, 1]\n",
    "seasonal_pred = y_pred[1][:, 1]\n",
    "\n",
    "# Evaluate the model using ROC AUC score\n",
    "xyz_auc = roc_auc_score(y_test['xyz_vaccine'], xyz_pred)\n",
    "seasonal_auc = roc_auc_score(y_test['seasonal_vaccine'], seasonal_pred)\n",
    "mean_auc = (xyz_auc + seasonal_auc) / 2\n",
    "\n",
    "print(f\"XYZ Vaccine ROC AUC: {xyz_auc:.4f}\")\n",
    "print(f\"Seasonal Vaccine ROC AUC: {seasonal_auc:.4f}\")\n",
    "print(f\"Mean ROC AUC: {mean_auc:.4f}\")\n",
    "\n",
    "# Make predictions on the test set features\n",
    "test_features_processed = test_features.drop('respondent_id', axis=1)\n",
    "test_pred = pipeline.predict_proba(test_features_processed)\n",
    "\n",
    "# Extract the predicted probabilities for each target variable\n",
    "test_xyz_pred = test_pred[0][:, 1]\n",
    "test_seasonal_pred = test_pred[1][:, 1]\n",
    "\n",
    "# Create submission file\n",
    "submission = pd.DataFrame({\n",
    "    'respondent_id': test_features['respondent_id'],\n",
    "    'xyz_vaccine': test_xyz_pred,\n",
    "    'seasonal_vaccine': test_seasonal_pred\n",
    "})\n",
    "submission.to_csv('submission.csv', index=False)"
   ]
  },
  {
   "cell_type": "code",
   "execution_count": null,
   "id": "f4e18d43-9940-4261-ad19-0623568c4721",
   "metadata": {},
   "outputs": [],
   "source": []
  }
 ],
 "metadata": {
  "kernelspec": {
   "display_name": "Python 3 (ipykernel)",
   "language": "python",
   "name": "python3"
  },
  "language_info": {
   "codemirror_mode": {
    "name": "ipython",
    "version": 3
   },
   "file_extension": ".py",
   "mimetype": "text/x-python",
   "name": "python",
   "nbconvert_exporter": "python",
   "pygments_lexer": "ipython3",
   "version": "3.11.7"
  }
 },
 "nbformat": 4,
 "nbformat_minor": 5
}
